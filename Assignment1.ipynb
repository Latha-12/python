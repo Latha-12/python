{
 "cells": [
  {
   "cell_type": "code",
   "execution_count": 1,
   "metadata": {},
   "outputs": [
    {
     "name": "stdout",
     "output_type": "stream",
     "text": [
      "welcome to Python Programming\n"
     ]
    },
    {
     "data": {
      "text/plain": [
       "'ahtal'"
      ]
     },
     "execution_count": 1,
     "metadata": {},
     "output_type": "execute_result"
    }
   ],
   "source": [
    "#Task1 - 1. My first basic Python Program\n",
    "print(\"welcome to Python Programming\")\n",
    "s=\"latha\"\n",
    "s[::-1]"
   ]
  },
  {
   "cell_type": "code",
   "execution_count": 2,
   "metadata": {},
   "outputs": [
    {
     "name": "stdout",
     "output_type": "stream",
     "text": [
      "[2002, 2009, 2016, 2023, 2037, 2044, 2051, 2058, 2072, 2079, 2086, 2093, 2107, 2114, 2121, 2128, 2142, 2149, 2156, 2163, 2177, 2184, 2191, 2198, 2212, 2219, 2226, 2233, 2247, 2254, 2261, 2268, 2282, 2289, 2296, 2303, 2317, 2324, 2331, 2338, 2352, 2359, 2366, 2373, 2387, 2394, 2401, 2408, 2422, 2429, 2436, 2443, 2457, 2464, 2471, 2478, 2492, 2499, 2506, 2513, 2527, 2534, 2541, 2548, 2562, 2569, 2576, 2583, 2597, 2604, 2611, 2618, 2632, 2639, 2646, 2653, 2667, 2674, 2681, 2688, 2702, 2709, 2716, 2723, 2737, 2744, 2751, 2758, 2772, 2779, 2786, 2793, 2807, 2814, 2821, 2828, 2842, 2849, 2856, 2863, 2877, 2884, 2891, 2898, 2912, 2919, 2926, 2933, 2947, 2954, 2961, 2968, 2982, 2989, 2996, 3003, 3017, 3024, 3031, 3038, 3052, 3059, 3066, 3073, 3087, 3094, 3101, 3108, 3122, 3129, 3136, 3143, 3157, 3164, 3171, 3178, 3192, 3199]\n"
     ]
    }
   ],
   "source": [
    "# Task 1 - 2. Program to find all numbers divisible by 7 but not a multiple of 5 between 2000 and 3200\n",
    "l=list(range(2000,3201))\n",
    "m=[]\n",
    "for i in l:\n",
    "    if i%7==0:\n",
    "        if i%5!=0:\n",
    "            m.append(i)\n",
    "print(m)"
   ]
  },
  {
   "cell_type": "code",
   "execution_count": 3,
   "metadata": {},
   "outputs": [
    {
     "name": "stdout",
     "output_type": "stream",
     "text": [
      "Enter your first name: Latha\n",
      "Enter your last name: Bala\n",
      "The name in reverse order is\n",
      "Bala Latha\n"
     ]
    }
   ],
   "source": [
    "# Task 1 - 3.Program to enter first and last name and then print them in reverse order\n",
    "a=input(\"Enter your first name: \")\n",
    "b=input(\"Enter your last name: \")\n",
    "# print(\"{} {}\".format(a,b))\n",
    "print(\"The name in reverse order is\")\n",
    "print(\" \".join([b,a]))"
   ]
  },
  {
   "cell_type": "code",
   "execution_count": 4,
   "metadata": {},
   "outputs": [
    {
     "name": "stdout",
     "output_type": "stream",
     "text": [
      "Volume of a sphere with diameter 12 cm is: 904.3199999999999\n"
     ]
    }
   ],
   "source": [
    "#Task 1 - 4. Program to find the volume of a sphere\n",
    "d=12\n",
    "r=d/2\n",
    "pi=3.14\n",
    "V=4/3*pi*r**3\n",
    "print(\"Volume of a sphere with diameter 12 cm is:\", V )"
   ]
  },
  {
   "cell_type": "code",
   "execution_count": 8,
   "metadata": {},
   "outputs": [
    {
     "name": "stdout",
     "output_type": "stream",
     "text": [
      "Enter the list of numbers 3,2,4,5,6,7\n",
      "['3', ',', '2', ',', '4', ',', '5', ',', '6', ',', '7']\n"
     ]
    }
   ],
   "source": [
    "#Task 2 - 1. Program to accept a sequence of comma separated numbers from console and generate a list\n",
    "l= input(\"Enter the list of numbers \")\n",
    "print(list(l))"
   ]
  },
  {
   "cell_type": "code",
   "execution_count": 10,
   "metadata": {},
   "outputs": [
    {
     "name": "stdout",
     "output_type": "stream",
     "text": [
      "\n",
      "*\n",
      "**\n",
      "***\n",
      "****\n",
      "*****\n",
      "****\n",
      "***\n",
      "**\n",
      "*\n"
     ]
    }
   ],
   "source": [
    "# Task 2 - 2. Program for creating given Pattern using nested for loop\n",
    "\n",
    "for i in range(0,5):\n",
    "    print(\"*\" * i)\n",
    "for j in range(5,0,-1):\n",
    "    print(\"*\" * j)"
   ]
  },
  {
   "cell_type": "code",
   "execution_count": 11,
   "metadata": {},
   "outputs": [
    {
     "name": "stdout",
     "output_type": "stream",
     "text": [
      "Enter the input AcadGild\n"
     ]
    },
    {
     "data": {
      "text/plain": [
       "'dliGdacA'"
      ]
     },
     "execution_count": 11,
     "metadata": {},
     "output_type": "execute_result"
    }
   ],
   "source": [
    "# Task 2 - 3. Program for reversing a word after accepting input from user\n",
    "s=input(\"Enter the input \")\n",
    "s[::-1]\n"
   ]
  },
  {
   "cell_type": "code",
   "execution_count": 12,
   "metadata": {},
   "outputs": [
    {
     "name": "stdout",
     "output_type": "stream",
     "text": [
      "WE, THE PEOPLE OF INDIA,\n",
      "\thaving solemnly resolved to constitute India into a\n",
      "\t\tSOVEREIGN, SOCIALIST, SECULAR, DEMOCRATIC REPUBLIC\n",
      "\t\tand to secure to all its citizens\n"
     ]
    }
   ],
   "source": [
    "#Task 2 - 4.Program to print given string in specified format\n",
    "s= \"\"\"WE, THE PEOPLE OF INDIA,\\n\\thaving solemnly resolved to constitute India into a\\n\\t\\tSOVEREIGN, SOCIALIST, SECULAR, DEMOCRATIC REPUBLIC\\n\\t\\tand to secure to all its citizens\"\"\"\n",
    "print(s)"
   ]
  },
  {
   "cell_type": "code",
   "execution_count": null,
   "metadata": {},
   "outputs": [],
   "source": []
  }
 ],
 "metadata": {
  "kernelspec": {
   "display_name": "Python 3",
   "language": "python",
   "name": "python3"
  },
  "language_info": {
   "codemirror_mode": {
    "name": "ipython",
    "version": 3
   },
   "file_extension": ".py",
   "mimetype": "text/x-python",
   "name": "python",
   "nbconvert_exporter": "python",
   "pygments_lexer": "ipython3",
   "version": "3.7.6"
  }
 },
 "nbformat": 4,
 "nbformat_minor": 4
}
